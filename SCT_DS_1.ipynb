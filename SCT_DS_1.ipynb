{
  "cells": [
    {
      "cell_type": "markdown",
      "metadata": {
        "id": "view-in-github",
        "colab_type": "text"
      },
      "source": [
        "<a href=\"https://colab.research.google.com/github/Arunsingh0501/skillCraft/blob/SCT_DS_1/SCT_DS_1.ipynb\" target=\"_parent\"><img src=\"https://colab.research.google.com/assets/colab-badge.svg\" alt=\"Open In Colab\"/></a>"
      ]
    },
    {
      "cell_type": "code",
      "source": [
        "from google.colab import drive\n",
        "drive.mount('/content/drive')"
      ],
      "metadata": {
        "colab": {
          "base_uri": "https://localhost:8080/"
        },
        "id": "4ZZRNrjQHezq",
        "outputId": "2a503861-b2d3-4a42-fa90-f3ea66fc21ba"
      },
      "execution_count": 1,
      "outputs": [
        {
          "output_type": "stream",
          "name": "stdout",
          "text": [
            "Drive already mounted at /content/drive; to attempt to forcibly remount, call drive.mount(\"/content/drive\", force_remount=True).\n"
          ]
        }
      ]
    },
    {
      "cell_type": "code",
      "execution_count": 2,
      "metadata": {
        "id": "Dav1PAU21eqE"
      },
      "outputs": [],
      "source": [
        "import numpy as np\n",
        "import pandas as pd\n",
        "import matplotlib.pyplot as plt\n",
        "import seaborn as sns\n"
      ]
    },
    {
      "cell_type": "code",
      "execution_count": 22,
      "metadata": {
        "id": "S-UbQOG-_HQ2"
      },
      "outputs": [],
      "source": [
        "#import dataset\n",
        "df= pd.read_csv('/content/drive/MyDrive/Sample_dataset.csv')"
      ]
    },
    {
      "cell_type": "code",
      "execution_count": 23,
      "metadata": {
        "colab": {
          "base_uri": "https://localhost:8080/"
        },
        "id": "fTm4ITxYALip",
        "outputId": "4eba4d0a-53a2-4201-ac28-dcb822f42f4a"
      },
      "outputs": [
        {
          "output_type": "stream",
          "name": "stdout",
          "text": [
            "<class 'pandas.core.frame.DataFrame'>\n",
            "RangeIndex: 266 entries, 0 to 265\n",
            "Data columns (total 68 columns):\n",
            " #   Column          Non-Null Count  Dtype  \n",
            "---  ------          --------------  -----  \n",
            " 0   Country Name    266 non-null    object \n",
            " 1   Country Code    266 non-null    object \n",
            " 2   Indicator Name  266 non-null    object \n",
            " 3   Indicator Code  266 non-null    object \n",
            " 4   1960            264 non-null    float64\n",
            " 5   1961            264 non-null    float64\n",
            " 6   1962            264 non-null    float64\n",
            " 7   1963            264 non-null    float64\n",
            " 8   1964            264 non-null    float64\n",
            " 9   1965            264 non-null    float64\n",
            " 10  1966            264 non-null    float64\n",
            " 11  1967            264 non-null    float64\n",
            " 12  1968            264 non-null    float64\n",
            " 13  1969            264 non-null    float64\n",
            " 14  1970            264 non-null    float64\n",
            " 15  1971            264 non-null    float64\n",
            " 16  1972            264 non-null    float64\n",
            " 17  1973            264 non-null    float64\n",
            " 18  1974            264 non-null    float64\n",
            " 19  1975            264 non-null    float64\n",
            " 20  1976            264 non-null    float64\n",
            " 21  1977            264 non-null    float64\n",
            " 22  1978            264 non-null    float64\n",
            " 23  1979            264 non-null    float64\n",
            " 24  1980            264 non-null    float64\n",
            " 25  1981            264 non-null    float64\n",
            " 26  1982            264 non-null    float64\n",
            " 27  1983            264 non-null    float64\n",
            " 28  1984            264 non-null    float64\n",
            " 29  1985            264 non-null    float64\n",
            " 30  1986            264 non-null    float64\n",
            " 31  1987            264 non-null    float64\n",
            " 32  1988            264 non-null    float64\n",
            " 33  1989            264 non-null    float64\n",
            " 34  1990            265 non-null    float64\n",
            " 35  1991            265 non-null    float64\n",
            " 36  1992            265 non-null    float64\n",
            " 37  1993            265 non-null    float64\n",
            " 38  1994            265 non-null    float64\n",
            " 39  1995            265 non-null    float64\n",
            " 40  1996            265 non-null    float64\n",
            " 41  1997            265 non-null    float64\n",
            " 42  1998            265 non-null    float64\n",
            " 43  1999            265 non-null    float64\n",
            " 44  2000            265 non-null    float64\n",
            " 45  2001            265 non-null    float64\n",
            " 46  2002            265 non-null    float64\n",
            " 47  2003            265 non-null    float64\n",
            " 48  2004            265 non-null    float64\n",
            " 49  2005            265 non-null    float64\n",
            " 50  2006            265 non-null    float64\n",
            " 51  2007            265 non-null    float64\n",
            " 52  2008            265 non-null    float64\n",
            " 53  2009            265 non-null    float64\n",
            " 54  2010            265 non-null    float64\n",
            " 55  2011            265 non-null    float64\n",
            " 56  2012            265 non-null    float64\n",
            " 57  2013            265 non-null    float64\n",
            " 58  2014            265 non-null    float64\n",
            " 59  2015            265 non-null    float64\n",
            " 60  2016            265 non-null    float64\n",
            " 61  2017            265 non-null    float64\n",
            " 62  2018            265 non-null    float64\n",
            " 63  2019            265 non-null    float64\n",
            " 64  2020            265 non-null    float64\n",
            " 65  2021            265 non-null    float64\n",
            " 66  2022            265 non-null    float64\n",
            " 67  2023            265 non-null    float64\n",
            "dtypes: float64(64), object(4)\n",
            "memory usage: 141.4+ KB\n",
            "None\n"
          ]
        }
      ],
      "source": [
        "#Gathering information about the Dataset\n",
        "print(df.info())"
      ]
    },
    {
      "source": [
        "\n",
        "# Print the column names to verify if 'age' exists and check its spelling\n",
        "print(df.columns)\n",
        "\n",
        "# Assuming 'age' is a continuous variable in your dataset, and the column name is confirmed\n",
        "plt.figure(figsize=(10, 6))\n",
        "# Replace 'age' with the actual column name if it's different\n",
        "sns.histplot(df['age'], kde=True)\n",
        "plt.title('Distribution of Ages')\n",
        "plt.xlabel('Age')\n",
        "plt.ylabel('Count')\n",
        "plt.show()"
      ],
      "cell_type": "code",
      "metadata": {
        "id": "GjQuEZJvLToN",
        "outputId": "7e6e0b6e-4577-4aba-adf3-2a4fa3b49ebc",
        "colab": {
          "base_uri": "https://localhost:8080/",
          "height": 738
        }
      },
      "execution_count": 24,
      "outputs": [
        {
          "output_type": "stream",
          "name": "stdout",
          "text": [
            "Index(['Country Name', 'Country Code', 'Indicator Name', 'Indicator Code',\n",
            "       '1960', '1961', '1962', '1963', '1964', '1965', '1966', '1967', '1968',\n",
            "       '1969', '1970', '1971', '1972', '1973', '1974', '1975', '1976', '1977',\n",
            "       '1978', '1979', '1980', '1981', '1982', '1983', '1984', '1985', '1986',\n",
            "       '1987', '1988', '1989', '1990', '1991', '1992', '1993', '1994', '1995',\n",
            "       '1996', '1997', '1998', '1999', '2000', '2001', '2002', '2003', '2004',\n",
            "       '2005', '2006', '2007', '2008', '2009', '2010', '2011', '2012', '2013',\n",
            "       '2014', '2015', '2016', '2017', '2018', '2019', '2020', '2021', '2022',\n",
            "       '2023'],\n",
            "      dtype='object')\n"
          ]
        },
        {
          "output_type": "error",
          "ename": "KeyError",
          "evalue": "'age'",
          "traceback": [
            "\u001b[0;31m---------------------------------------------------------------------------\u001b[0m",
            "\u001b[0;31mKeyError\u001b[0m                                  Traceback (most recent call last)",
            "\u001b[0;32m/usr/local/lib/python3.10/dist-packages/pandas/core/indexes/base.py\u001b[0m in \u001b[0;36mget_loc\u001b[0;34m(self, key)\u001b[0m\n\u001b[1;32m   3652\u001b[0m         \u001b[0;32mtry\u001b[0m\u001b[0;34m:\u001b[0m\u001b[0;34m\u001b[0m\u001b[0;34m\u001b[0m\u001b[0m\n\u001b[0;32m-> 3653\u001b[0;31m             \u001b[0;32mreturn\u001b[0m \u001b[0mself\u001b[0m\u001b[0;34m.\u001b[0m\u001b[0m_engine\u001b[0m\u001b[0;34m.\u001b[0m\u001b[0mget_loc\u001b[0m\u001b[0;34m(\u001b[0m\u001b[0mcasted_key\u001b[0m\u001b[0;34m)\u001b[0m\u001b[0;34m\u001b[0m\u001b[0;34m\u001b[0m\u001b[0m\n\u001b[0m\u001b[1;32m   3654\u001b[0m         \u001b[0;32mexcept\u001b[0m \u001b[0mKeyError\u001b[0m \u001b[0;32mas\u001b[0m \u001b[0merr\u001b[0m\u001b[0;34m:\u001b[0m\u001b[0;34m\u001b[0m\u001b[0;34m\u001b[0m\u001b[0m\n",
            "\u001b[0;32m/usr/local/lib/python3.10/dist-packages/pandas/_libs/index.pyx\u001b[0m in \u001b[0;36mpandas._libs.index.IndexEngine.get_loc\u001b[0;34m()\u001b[0m\n",
            "\u001b[0;32m/usr/local/lib/python3.10/dist-packages/pandas/_libs/index.pyx\u001b[0m in \u001b[0;36mpandas._libs.index.IndexEngine.get_loc\u001b[0;34m()\u001b[0m\n",
            "\u001b[0;32mpandas/_libs/hashtable_class_helper.pxi\u001b[0m in \u001b[0;36mpandas._libs.hashtable.PyObjectHashTable.get_item\u001b[0;34m()\u001b[0m\n",
            "\u001b[0;32mpandas/_libs/hashtable_class_helper.pxi\u001b[0m in \u001b[0;36mpandas._libs.hashtable.PyObjectHashTable.get_item\u001b[0;34m()\u001b[0m\n",
            "\u001b[0;31mKeyError\u001b[0m: 'age'",
            "\nThe above exception was the direct cause of the following exception:\n",
            "\u001b[0;31mKeyError\u001b[0m                                  Traceback (most recent call last)",
            "\u001b[0;32m<ipython-input-24-55aa48ec1192>\u001b[0m in \u001b[0;36m<cell line: 7>\u001b[0;34m()\u001b[0m\n\u001b[1;32m      5\u001b[0m \u001b[0mplt\u001b[0m\u001b[0;34m.\u001b[0m\u001b[0mfigure\u001b[0m\u001b[0;34m(\u001b[0m\u001b[0mfigsize\u001b[0m\u001b[0;34m=\u001b[0m\u001b[0;34m(\u001b[0m\u001b[0;36m10\u001b[0m\u001b[0;34m,\u001b[0m \u001b[0;36m6\u001b[0m\u001b[0;34m)\u001b[0m\u001b[0;34m)\u001b[0m\u001b[0;34m\u001b[0m\u001b[0;34m\u001b[0m\u001b[0m\n\u001b[1;32m      6\u001b[0m \u001b[0;31m# Replace 'age' with the actual column name if it's different\u001b[0m\u001b[0;34m\u001b[0m\u001b[0;34m\u001b[0m\u001b[0m\n\u001b[0;32m----> 7\u001b[0;31m \u001b[0msns\u001b[0m\u001b[0;34m.\u001b[0m\u001b[0mhistplot\u001b[0m\u001b[0;34m(\u001b[0m\u001b[0mdf\u001b[0m\u001b[0;34m[\u001b[0m\u001b[0;34m'age'\u001b[0m\u001b[0;34m]\u001b[0m\u001b[0;34m,\u001b[0m \u001b[0mkde\u001b[0m\u001b[0;34m=\u001b[0m\u001b[0;32mTrue\u001b[0m\u001b[0;34m)\u001b[0m\u001b[0;34m\u001b[0m\u001b[0;34m\u001b[0m\u001b[0m\n\u001b[0m\u001b[1;32m      8\u001b[0m \u001b[0mplt\u001b[0m\u001b[0;34m.\u001b[0m\u001b[0mtitle\u001b[0m\u001b[0;34m(\u001b[0m\u001b[0;34m'Distribution of Ages'\u001b[0m\u001b[0;34m)\u001b[0m\u001b[0;34m\u001b[0m\u001b[0;34m\u001b[0m\u001b[0m\n\u001b[1;32m      9\u001b[0m \u001b[0mplt\u001b[0m\u001b[0;34m.\u001b[0m\u001b[0mxlabel\u001b[0m\u001b[0;34m(\u001b[0m\u001b[0;34m'Age'\u001b[0m\u001b[0;34m)\u001b[0m\u001b[0;34m\u001b[0m\u001b[0;34m\u001b[0m\u001b[0m\n",
            "\u001b[0;32m/usr/local/lib/python3.10/dist-packages/pandas/core/frame.py\u001b[0m in \u001b[0;36m__getitem__\u001b[0;34m(self, key)\u001b[0m\n\u001b[1;32m   3759\u001b[0m             \u001b[0;32mif\u001b[0m \u001b[0mself\u001b[0m\u001b[0;34m.\u001b[0m\u001b[0mcolumns\u001b[0m\u001b[0;34m.\u001b[0m\u001b[0mnlevels\u001b[0m \u001b[0;34m>\u001b[0m \u001b[0;36m1\u001b[0m\u001b[0;34m:\u001b[0m\u001b[0;34m\u001b[0m\u001b[0;34m\u001b[0m\u001b[0m\n\u001b[1;32m   3760\u001b[0m                 \u001b[0;32mreturn\u001b[0m \u001b[0mself\u001b[0m\u001b[0;34m.\u001b[0m\u001b[0m_getitem_multilevel\u001b[0m\u001b[0;34m(\u001b[0m\u001b[0mkey\u001b[0m\u001b[0;34m)\u001b[0m\u001b[0;34m\u001b[0m\u001b[0;34m\u001b[0m\u001b[0m\n\u001b[0;32m-> 3761\u001b[0;31m             \u001b[0mindexer\u001b[0m \u001b[0;34m=\u001b[0m \u001b[0mself\u001b[0m\u001b[0;34m.\u001b[0m\u001b[0mcolumns\u001b[0m\u001b[0;34m.\u001b[0m\u001b[0mget_loc\u001b[0m\u001b[0;34m(\u001b[0m\u001b[0mkey\u001b[0m\u001b[0;34m)\u001b[0m\u001b[0;34m\u001b[0m\u001b[0;34m\u001b[0m\u001b[0m\n\u001b[0m\u001b[1;32m   3762\u001b[0m             \u001b[0;32mif\u001b[0m \u001b[0mis_integer\u001b[0m\u001b[0;34m(\u001b[0m\u001b[0mindexer\u001b[0m\u001b[0;34m)\u001b[0m\u001b[0;34m:\u001b[0m\u001b[0;34m\u001b[0m\u001b[0;34m\u001b[0m\u001b[0m\n\u001b[1;32m   3763\u001b[0m                 \u001b[0mindexer\u001b[0m \u001b[0;34m=\u001b[0m \u001b[0;34m[\u001b[0m\u001b[0mindexer\u001b[0m\u001b[0;34m]\u001b[0m\u001b[0;34m\u001b[0m\u001b[0;34m\u001b[0m\u001b[0m\n",
            "\u001b[0;32m/usr/local/lib/python3.10/dist-packages/pandas/core/indexes/base.py\u001b[0m in \u001b[0;36mget_loc\u001b[0;34m(self, key)\u001b[0m\n\u001b[1;32m   3653\u001b[0m             \u001b[0;32mreturn\u001b[0m \u001b[0mself\u001b[0m\u001b[0;34m.\u001b[0m\u001b[0m_engine\u001b[0m\u001b[0;34m.\u001b[0m\u001b[0mget_loc\u001b[0m\u001b[0;34m(\u001b[0m\u001b[0mcasted_key\u001b[0m\u001b[0;34m)\u001b[0m\u001b[0;34m\u001b[0m\u001b[0;34m\u001b[0m\u001b[0m\n\u001b[1;32m   3654\u001b[0m         \u001b[0;32mexcept\u001b[0m \u001b[0mKeyError\u001b[0m \u001b[0;32mas\u001b[0m \u001b[0merr\u001b[0m\u001b[0;34m:\u001b[0m\u001b[0;34m\u001b[0m\u001b[0;34m\u001b[0m\u001b[0m\n\u001b[0;32m-> 3655\u001b[0;31m             \u001b[0;32mraise\u001b[0m \u001b[0mKeyError\u001b[0m\u001b[0;34m(\u001b[0m\u001b[0mkey\u001b[0m\u001b[0;34m)\u001b[0m \u001b[0;32mfrom\u001b[0m \u001b[0merr\u001b[0m\u001b[0;34m\u001b[0m\u001b[0;34m\u001b[0m\u001b[0m\n\u001b[0m\u001b[1;32m   3656\u001b[0m         \u001b[0;32mexcept\u001b[0m \u001b[0mTypeError\u001b[0m\u001b[0;34m:\u001b[0m\u001b[0;34m\u001b[0m\u001b[0;34m\u001b[0m\u001b[0m\n\u001b[1;32m   3657\u001b[0m             \u001b[0;31m# If we have a listlike key, _check_indexing_error will raise\u001b[0m\u001b[0;34m\u001b[0m\u001b[0;34m\u001b[0m\u001b[0m\n",
            "\u001b[0;31mKeyError\u001b[0m: 'age'"
          ]
        },
        {
          "output_type": "display_data",
          "data": {
            "text/plain": [
              "<Figure size 1000x600 with 0 Axes>"
            ]
          },
          "metadata": {}
        }
      ]
    }
  ],
  "metadata": {
    "colab": {
      "provenance": [],
      "mount_file_id": "18-ir5yAEo6MjRom3AXGy2dWBxOyi2asa",
      "authorship_tag": "ABX9TyO9x/d0MkqkNYcr9+N+TwXe",
      "include_colab_link": true
    },
    "kernelspec": {
      "display_name": "Python 3",
      "name": "python3"
    },
    "language_info": {
      "name": "python"
    }
  },
  "nbformat": 4,
  "nbformat_minor": 0
}