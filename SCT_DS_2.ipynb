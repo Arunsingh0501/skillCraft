{
  "nbformat": 4,
  "nbformat_minor": 0,
  "metadata": {
    "colab": {
      "provenance": [],
      "mount_file_id": "1WfX2WQgzzZTyuxrJaBisrAq6qRUhHvXZ",
      "authorship_tag": "ABX9TyMolpRPcKFiB/9KO1ZMWHc8",
      "include_colab_link": true
    },
    "kernelspec": {
      "name": "python3",
      "display_name": "Python 3"
    },
    "language_info": {
      "name": "python"
    }
  },
  "cells": [
    {
      "cell_type": "markdown",
      "metadata": {
        "id": "view-in-github",
        "colab_type": "text"
      },
      "source": [
        "<a href=\"https://colab.research.google.com/github/Arunsingh0501/skillCraft/blob/SCT_DS_2/SCT_DS_2.ipynb\" target=\"_parent\"><img src=\"https://colab.research.google.com/assets/colab-badge.svg\" alt=\"Open In Colab\"/></a>"
      ]
    },
    {
      "cell_type": "code",
      "execution_count": null,
      "metadata": {
        "id": "PmXkJ51XMmA1"
      },
      "outputs": [],
      "source": []
    }
  ]
}